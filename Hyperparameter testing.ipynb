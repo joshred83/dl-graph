{
 "cells": [
  {
   "cell_type": "code",
   "execution_count": 1,
   "id": "e33a7f51-08fc-4710-b676-53ca5e441a20",
   "metadata": {},
   "outputs": [],
   "source": [
    "import torch\n",
    "import torch.nn.functional as F\n",
    "import matplotlib.pyplot as plt\n",
    "from torch_geometric.datasets import EllipticBitcoinDataset\n",
    "from torch_geometric.loader import NeighborLoader\n",
    "from torch_geometric.utils import to_dense_adj\n",
    "from src.dominant import (\n",
    "    DOMINANTAugmented,\n",
    ")  # note we're using the custom DOMINANTAugmented class here\n",
    "from tqdm import tqdm  #\n",
    "import datetime\n",
    "import os\n",
    "import json\n",
    "from sklearn.metrics import (\n",
    "    roc_auc_score,\n",
    "    accuracy_score,\n",
    "    f1_score,\n",
    "    precision_score,\n",
    "    recall_score,\n",
    ")\n",
    "from typing import Dict, Tuple\n",
    "import numpy as np\n",
    "from src.loaders import load_elliptic, make_loader\n",
    "from src.traditional_models import train_traditional_classifier\n",
    "from main import load_dataset, create_model, create_loader, train_model, test_model\n",
    "import argparse\n",
    "import warnings\n",
    "import yaml"
   ]
  },
  {
   "cell_type": "code",
   "execution_count": 2,
   "id": "e080815d-a020-4381-b38c-373d4d0eb669",
   "metadata": {},
   "outputs": [],
   "source": [
    "def hyperparameter_loop(parameter, parameter_list, metrics):\n",
    "    \"\"\"\n",
    "    Run a grid search for a hyperparameter\n",
    "    Args: hyperparameter, hyperparameter list, classification metrics (empty dict)\n",
    "    Returns: Classification metrics dictionary\n",
    "    \"\"\" \n",
    "    for i in range(len(parameter_list)):\n",
    "        config.update(parameter= parameter_list[i])\n",
    "        model, device = create_model(data, config)\n",
    "\n",
    "        train_loader = create_loader(data,batch_size=config[\"batch_size\"], num_neighbors=config[\"num_neighbors\"],use_train_mask=True)\n",
    "\n",
    "        model, training_metrics = train_model(model,train_loader,learning_rate=config[\"learning_rate\"],device=device,\n",
    "                    num_epochs=config[\"num_epochs\"],output_directory=config[\"save_dir\"])\n",
    "\n",
    "        test_metrics = test_model(model,data,device,batch_size=config[\"batch_size\"],num_neighbors=config[\"num_neighbors\"],\n",
    "                output_directory=config[\"save_dir\"])\n",
    "        metrics[\"auc\"].append(test_metrics[\"auc\"])\n",
    "        metrics[\"accuracy\"].append(test_metrics[\"accuracy\"])\n",
    "        metrics[\"f1\"].append(test_metrics[\"f1\"])\n",
    "        metrics[\"precision\"].append(test_metrics[\"precision\"])\n",
    "        metrics[\"recall\"].append(test_metrics[\"recall\"])\n",
    "    return metrics\n",
    "\n",
    "def plot_metrics(metrics, para_list, parameter, x_log = False) -> None:\n",
    "    \"\"\"\n",
    "    Plot the classification metrics\n",
    "    Args:classification metrics\n",
    "    Returns:None\n",
    "    \"\"\" \n",
    "    plt.figure(figsize=(10, 5))\n",
    "    plt.plot(para_list, metrics[\"auc\"], label=\"AUC\")\n",
    "    plt.plot(para_list, metrics[\"f1\"], label=\"F1\")\n",
    "    plt.plot(para_list, metrics[\"precision\"], label=\"Precision\")\n",
    "    plt.plot(para_list, metrics[\"recall\"], label=\"Recall\")\n",
    "    plt.xlabel(parameter)\n",
    "    plt.ylabel(\"Metrics\")\n",
    "    if x_log:  plt.xscale(\"log\")\n",
    "    plt.title(\"Classification Metrics\")\n",
    "    plt.grid(True)\n",
    "    plt.legend()\n",
    "    plt.tight_layout()\n",
    "    plt.show()"
   ]
  },
  {
   "cell_type": "code",
   "execution_count": 3,
   "id": "a90e9082-8513-4200-97a9-1ddd0058a684",
   "metadata": {},
   "outputs": [],
   "source": [
    "config = {\n",
    "            # Model parameters\n",
    "            \"num_layers\": 3,\n",
    "            \"hidden_dim\": 64,\n",
    "            \"num_heads\": 4,\n",
    "            \"dropout\": 0.1,\n",
    "            \"backbone\": 'gcn',\n",
    "            \"apply_augmentation\": False,\n",
    "            \"use_interpolation\": False,\n",
    "            \"use_perturbation\": False,\n",
    "            \"interpolation_rate\": 0.1,\n",
    "            \"feature_noise\": 0.05,\n",
    "            \"structure_noise\": 0.05,\n",
    "            \"use_adaptive_alpha\": False,\n",
    "            \"start_alpha\": 0.6,\n",
    "            \"end_alpha\": 0.5,\n",
    "            \"use_aggregation\": False,\n",
    "            \"aggregation_mean\": False,\n",
    "            \"aggregation_max\": False,\n",
    "            # Training parameters\n",
    "            \"batch_size\": 2048,\n",
    "            \"num_neighbors\": [10, 10],\n",
    "            \"learning_rate\": 0.005,\n",
    "            \"num_epochs\": 10,\n",
    "            # Paths for output\n",
    "            \"data_root\": \"data/elliptic\",\n",
    "            \"save_dir\": \"./saved_models\",\n",
    "        }"
   ]
  },
  {
   "cell_type": "markdown",
   "id": "49bca925-2d2e-4ae6-a211-a43c30162384",
   "metadata": {},
   "source": [
    "#### Number of layers"
   ]
  },
  {
   "cell_type": "code",
   "execution_count": 5,
   "id": "e35d7f93-f460-4539-98b6-bb606e72fea1",
   "metadata": {},
   "outputs": [
    {
     "name": "stdout",
     "output_type": "stream",
     "text": [
      "Using GCN as backbone, with 3 layers.\n",
      "Epoch 1/10\n",
      "Avg Batch Loss: 6.230e+02, Avg Batch Attribute Loss: 1.606e+01, Avg Batch Structure Loss: 1.533e+03\n",
      "Epoch 2/10\n",
      "Avg Batch Loss: 3.519e+01, Avg Batch Attribute Loss: 1.358e+01, Avg Batch Structure Loss: 6.759e+01\n",
      "Epoch 3/10\n",
      "Avg Batch Loss: 1.404e+01, Avg Batch Attribute Loss: 1.285e+01, Avg Batch Structure Loss: 1.582e+01\n",
      "Epoch 4/10\n",
      "Avg Batch Loss: 1.074e+01, Avg Batch Attribute Loss: 1.244e+01, Avg Batch Structure Loss: 8.194e+00\n",
      "Epoch 5/10\n",
      "Avg Batch Loss: 9.730e+00, Avg Batch Attribute Loss: 1.221e+01, Avg Batch Structure Loss: 6.005e+00\n",
      "Epoch 6/10\n",
      "Avg Batch Loss: 9.573e+00, Avg Batch Attribute Loss: 1.207e+01, Avg Batch Structure Loss: 5.827e+00\n",
      "Epoch 7/10\n",
      "Avg Batch Loss: 9.141e+00, Avg Batch Attribute Loss: 1.197e+01, Avg Batch Structure Loss: 4.895e+00\n",
      "Epoch 8/10\n",
      "Avg Batch Loss: 8.850e+00, Avg Batch Attribute Loss: 1.190e+01, Avg Batch Structure Loss: 4.271e+00\n",
      "Epoch 9/10\n",
      "Avg Batch Loss: 9.279e+00, Avg Batch Attribute Loss: 1.184e+01, Avg Batch Structure Loss: 5.434e+00\n",
      "Epoch 10/10\n",
      "Avg Batch Loss: 8.474e+00, Avg Batch Attribute Loss: 1.178e+01, Avg Batch Structure Loss: 3.513e+00\n",
      "Model saved to ./saved_models\\dominant_model_None.pt\n",
      "Metrics saved to ./saved_models\\train_metrics_None.json\n",
      "Model input dimension: 165\n",
      "Data feature dimension: 165\n",
      "Using aggregation: False\n"
     ]
    },
    {
     "name": "stderr",
     "output_type": "stream",
     "text": [
      "Testing: 100%|██████████| 9/9 [00:06<00:00,  1.42it/s]\n"
     ]
    },
    {
     "name": "stdout",
     "output_type": "stream",
     "text": [
      "\n",
      "Test Metrics:\n",
      "AUC: 0.763\n",
      "Accuracy: 0.935\n",
      "F1: 0.966\n",
      "Precision: 0.935\n",
      "Recall: 1.000\n",
      "Loss: 9.856e+00\n",
      "Metrics saved to ./saved_models\\test_metrics_None.json\n",
      "Using GCN as backbone, with 3 layers.\n",
      "Epoch 1/10\n",
      "Avg Batch Loss: 6.942e+02, Avg Batch Attribute Loss: 1.604e+01, Avg Batch Structure Loss: 1.711e+03\n",
      "Epoch 2/10\n",
      "Avg Batch Loss: 3.793e+01, Avg Batch Attribute Loss: 1.330e+01, Avg Batch Structure Loss: 7.489e+01\n",
      "Epoch 3/10\n",
      "Avg Batch Loss: 1.440e+01, Avg Batch Attribute Loss: 1.274e+01, Avg Batch Structure Loss: 1.689e+01\n",
      "Epoch 4/10\n",
      "Avg Batch Loss: 1.144e+01, Avg Batch Attribute Loss: 1.243e+01, Avg Batch Structure Loss: 9.940e+00\n",
      "Epoch 5/10\n",
      "Avg Batch Loss: 1.026e+01, Avg Batch Attribute Loss: 1.227e+01, Avg Batch Structure Loss: 7.234e+00\n",
      "Epoch 6/10\n",
      "Avg Batch Loss: 9.800e+00, Avg Batch Attribute Loss: 1.212e+01, Avg Batch Structure Loss: 6.319e+00\n",
      "Epoch 7/10\n",
      "Avg Batch Loss: 9.364e+00, Avg Batch Attribute Loss: 1.203e+01, Avg Batch Structure Loss: 5.370e+00\n",
      "Epoch 8/10\n",
      "Avg Batch Loss: 9.275e+00, Avg Batch Attribute Loss: 1.196e+01, Avg Batch Structure Loss: 5.245e+00\n",
      "Epoch 9/10\n",
      "Avg Batch Loss: 8.766e+00, Avg Batch Attribute Loss: 1.187e+01, Avg Batch Structure Loss: 4.112e+00\n",
      "Epoch 10/10\n",
      "Avg Batch Loss: 8.566e+00, Avg Batch Attribute Loss: 1.182e+01, Avg Batch Structure Loss: 3.685e+00\n",
      "Model saved to ./saved_models\\dominant_model_None.pt\n",
      "Metrics saved to ./saved_models\\train_metrics_None.json\n",
      "Model input dimension: 165\n",
      "Data feature dimension: 165\n",
      "Using aggregation: False\n"
     ]
    },
    {
     "name": "stderr",
     "output_type": "stream",
     "text": [
      "Testing: 100%|██████████| 9/9 [00:06<00:00,  1.50it/s]\n"
     ]
    },
    {
     "name": "stdout",
     "output_type": "stream",
     "text": [
      "\n",
      "Test Metrics:\n",
      "AUC: 0.763\n",
      "Accuracy: 0.935\n",
      "F1: 0.966\n",
      "Precision: 0.935\n",
      "Recall: 1.000\n",
      "Loss: 1.166e+01\n",
      "Metrics saved to ./saved_models\\test_metrics_None.json\n",
      "Using GCN as backbone, with 3 layers.\n",
      "Epoch 1/10\n",
      "Avg Batch Loss: 6.406e+02, Avg Batch Attribute Loss: 1.559e+01, Avg Batch Structure Loss: 1.578e+03\n",
      "Epoch 2/10\n",
      "Avg Batch Loss: 3.835e+01, Avg Batch Attribute Loss: 1.327e+01, Avg Batch Structure Loss: 7.596e+01\n",
      "Epoch 3/10\n",
      "Avg Batch Loss: 1.370e+01, Avg Batch Attribute Loss: 1.270e+01, Avg Batch Structure Loss: 1.520e+01\n",
      "Epoch 4/10\n",
      "Avg Batch Loss: 1.068e+01, Avg Batch Attribute Loss: 1.239e+01, Avg Batch Structure Loss: 8.117e+00\n",
      "Epoch 5/10\n",
      "Avg Batch Loss: 9.786e+00, Avg Batch Attribute Loss: 1.221e+01, Avg Batch Structure Loss: 6.156e+00\n",
      "Epoch 6/10\n",
      "Avg Batch Loss: 9.260e+00, Avg Batch Attribute Loss: 1.207e+01, Avg Batch Structure Loss: 5.045e+00\n",
      "Epoch 7/10\n",
      "Avg Batch Loss: 8.930e+00, Avg Batch Attribute Loss: 1.198e+01, Avg Batch Structure Loss: 4.355e+00\n",
      "Epoch 8/10\n",
      "Avg Batch Loss: 8.900e+00, Avg Batch Attribute Loss: 1.191e+01, Avg Batch Structure Loss: 4.378e+00\n",
      "Epoch 9/10\n",
      "Avg Batch Loss: 8.532e+00, Avg Batch Attribute Loss: 1.185e+01, Avg Batch Structure Loss: 3.560e+00\n",
      "Epoch 10/10\n",
      "Avg Batch Loss: 8.452e+00, Avg Batch Attribute Loss: 1.180e+01, Avg Batch Structure Loss: 3.427e+00\n",
      "Model saved to ./saved_models\\dominant_model_None.pt\n",
      "Metrics saved to ./saved_models\\train_metrics_None.json\n",
      "Model input dimension: 165\n",
      "Data feature dimension: 165\n",
      "Using aggregation: False\n"
     ]
    },
    {
     "name": "stderr",
     "output_type": "stream",
     "text": [
      "Testing: 100%|██████████| 9/9 [00:06<00:00,  1.49it/s]\n"
     ]
    },
    {
     "name": "stdout",
     "output_type": "stream",
     "text": [
      "\n",
      "Test Metrics:\n",
      "AUC: 0.755\n",
      "Accuracy: 0.935\n",
      "F1: 0.966\n",
      "Precision: 0.935\n",
      "Recall: 1.000\n",
      "Loss: 1.031e+01\n",
      "Metrics saved to ./saved_models\\test_metrics_None.json\n",
      "Using GCN as backbone, with 3 layers.\n",
      "Epoch 1/10\n",
      "Avg Batch Loss: 6.004e+02, Avg Batch Attribute Loss: 1.552e+01, Avg Batch Structure Loss: 1.478e+03\n",
      "Epoch 2/10\n",
      "Avg Batch Loss: 3.490e+01, Avg Batch Attribute Loss: 1.322e+01, Avg Batch Structure Loss: 6.743e+01\n",
      "Epoch 3/10\n",
      "Avg Batch Loss: 1.351e+01, Avg Batch Attribute Loss: 1.274e+01, Avg Batch Structure Loss: 1.467e+01\n",
      "Epoch 4/10\n",
      "Avg Batch Loss: 1.076e+01, Avg Batch Attribute Loss: 1.243e+01, Avg Batch Structure Loss: 8.252e+00\n",
      "Epoch 5/10\n",
      "Avg Batch Loss: 9.696e+00, Avg Batch Attribute Loss: 1.221e+01, Avg Batch Structure Loss: 5.928e+00\n",
      "Epoch 6/10\n",
      "Avg Batch Loss: 9.521e+00, Avg Batch Attribute Loss: 1.206e+01, Avg Batch Structure Loss: 5.711e+00\n",
      "Epoch 7/10\n",
      "Avg Batch Loss: 9.113e+00, Avg Batch Attribute Loss: 1.195e+01, Avg Batch Structure Loss: 4.864e+00\n",
      "Epoch 8/10\n",
      "Avg Batch Loss: 8.836e+00, Avg Batch Attribute Loss: 1.189e+01, Avg Batch Structure Loss: 4.253e+00\n",
      "Epoch 9/10\n",
      "Avg Batch Loss: 8.690e+00, Avg Batch Attribute Loss: 1.182e+01, Avg Batch Structure Loss: 4.000e+00\n",
      "Epoch 10/10\n",
      "Avg Batch Loss: 8.770e+00, Avg Batch Attribute Loss: 1.178e+01, Avg Batch Structure Loss: 4.254e+00\n",
      "Model saved to ./saved_models\\dominant_model_None.pt\n",
      "Metrics saved to ./saved_models\\train_metrics_None.json\n",
      "Model input dimension: 165\n",
      "Data feature dimension: 165\n",
      "Using aggregation: False\n"
     ]
    },
    {
     "name": "stderr",
     "output_type": "stream",
     "text": [
      "Testing: 100%|██████████| 9/9 [00:05<00:00,  1.50it/s]"
     ]
    },
    {
     "name": "stdout",
     "output_type": "stream",
     "text": [
      "\n",
      "Test Metrics:\n",
      "AUC: 0.752\n",
      "Accuracy: 0.935\n",
      "F1: 0.966\n",
      "Precision: 0.935\n",
      "Recall: 1.000\n",
      "Loss: 9.830e+00\n",
      "Metrics saved to ./saved_models\\test_metrics_None.json\n"
     ]
    },
    {
     "name": "stderr",
     "output_type": "stream",
     "text": [
      "\n"
     ]
    }
   ],
   "source": [
    "data = load_dataset(root=config[\"data_root\"])\n",
    "metrics = {\"auc\": [], \"accuracy\": [],\"f1\": [], \"precision\": [], \"recall\": []}\n",
    "\n",
    "para_change = \"num_layers\"\n",
    "para_list = [1, 3, 5, 7]\n",
    "\n",
    "metrics = hyperparameter_loop(para_change, para_list, metrics)"
   ]
  },
  {
   "cell_type": "code",
   "execution_count": 6,
   "id": "dabb9715-2439-4f85-aeb3-c0604de32046",
   "metadata": {},
   "outputs": [
    {
     "data": {
      "image/png": "[encoded data removed]",
      "text/plain": [
       "<Figure size 1000x500 with 1 Axes>"
      ]
     },
     "metadata": {},
     "output_type": "display_data"
    }
   ],
   "source": [
    "plot_metrics(metrics, para_list, para_change, x_log=False)"
   ]
  },
  {
   "cell_type": "markdown",
   "id": "d0a4ebc0-ea9f-47af-bbf6-5e1523b5f435",
   "metadata": {},
   "source": [
    "#### Hidden Dimension"
   ]
  },
  {
   "cell_type": "code",
   "execution_count": 8,
   "id": "5df4e745-db90-4fe6-8b0f-d9b3b0b2d90d",
   "metadata": {
    "scrolled": true
   },
   "outputs": [
    {
     "name": "stdout",
     "output_type": "stream",
     "text": [
      "Using GCN as backbone, with 3 layers.\n",
      "Epoch 1/10\n",
      "Avg Batch Loss: 5.313e+02, Avg Batch Attribute Loss: 1.573e+01, Avg Batch Structure Loss: 1.305e+03\n",
      "Epoch 2/10\n",
      "Avg Batch Loss: 3.211e+01, Avg Batch Attribute Loss: 1.328e+01, Avg Batch Structure Loss: 6.036e+01\n",
      "Epoch 3/10\n",
      "Avg Batch Loss: 1.361e+01, Avg Batch Attribute Loss: 1.273e+01, Avg Batch Structure Loss: 1.493e+01\n",
      "Epoch 4/10\n",
      "Avg Batch Loss: 1.048e+01, Avg Batch Attribute Loss: 1.245e+01, Avg Batch Structure Loss: 7.531e+00\n",
      "Epoch 5/10\n",
      "Avg Batch Loss: 9.875e+00, Avg Batch Attribute Loss: 1.221e+01, Avg Batch Structure Loss: 6.379e+00\n",
      "Epoch 6/10\n",
      "Avg Batch Loss: 9.350e+00, Avg Batch Attribute Loss: 1.208e+01, Avg Batch Structure Loss: 5.255e+00\n",
      "Epoch 7/10\n",
      "Avg Batch Loss: 8.990e+00, Avg Batch Attribute Loss: 1.197e+01, Avg Batch Structure Loss: 4.518e+00\n",
      "Epoch 8/10\n",
      "Avg Batch Loss: 8.645e+00, Avg Batch Attribute Loss: 1.189e+01, Avg Batch Structure Loss: 3.782e+00\n",
      "Epoch 9/10\n",
      "Avg Batch Loss: 8.664e+00, Avg Batch Attribute Loss: 1.181e+01, Avg Batch Structure Loss: 3.951e+00\n",
      "Epoch 10/10\n",
      "Avg Batch Loss: 8.473e+00, Avg Batch Attribute Loss: 1.175e+01, Avg Batch Structure Loss: 3.553e+00\n",
      "Model saved to ./saved_models\\dominant_model_None.pt\n",
      "Metrics saved to ./saved_models\\train_metrics_None.json\n",
      "Model input dimension: 165\n",
      "Data feature dimension: 165\n",
      "Using aggregation: False\n"
     ]
    },
    {
     "name": "stderr",
     "output_type": "stream",
     "text": [
      "Testing: 100%|██████████| 9/9 [00:06<00:00,  1.49it/s]\n"
     ]
    },
    {
     "name": "stdout",
     "output_type": "stream",
     "text": [
      "\n",
      "Test Metrics:\n",
      "AUC: 0.768\n",
      "Accuracy: 0.935\n",
      "F1: 0.966\n",
      "Precision: 0.935\n",
      "Recall: 1.000\n",
      "Loss: 9.795e+00\n",
      "Metrics saved to ./saved_models\\test_metrics_None.json\n",
      "Using GCN as backbone, with 3 layers.\n",
      "Epoch 1/10\n",
      "Avg Batch Loss: 6.481e+02, Avg Batch Attribute Loss: 1.591e+01, Avg Batch Structure Loss: 1.596e+03\n",
      "Epoch 2/10\n",
      "Avg Batch Loss: 3.379e+01, Avg Batch Attribute Loss: 1.340e+01, Avg Batch Structure Loss: 6.437e+01\n",
      "Epoch 3/10\n",
      "Avg Batch Loss: 1.374e+01, Avg Batch Attribute Loss: 1.278e+01, Avg Batch Structure Loss: 1.520e+01\n",
      "Epoch 4/10\n",
      "Avg Batch Loss: 1.164e+01, Avg Batch Attribute Loss: 1.243e+01, Avg Batch Structure Loss: 1.046e+01\n",
      "Epoch 5/10\n",
      "Avg Batch Loss: 1.028e+01, Avg Batch Attribute Loss: 1.224e+01, Avg Batch Structure Loss: 7.352e+00\n",
      "Epoch 6/10\n",
      "Avg Batch Loss: 9.611e+00, Avg Batch Attribute Loss: 1.208e+01, Avg Batch Structure Loss: 5.900e+00\n",
      "Epoch 7/10\n",
      "Avg Batch Loss: 9.278e+00, Avg Batch Attribute Loss: 1.199e+01, Avg Batch Structure Loss: 5.216e+00\n",
      "Epoch 8/10\n",
      "Avg Batch Loss: 8.944e+00, Avg Batch Attribute Loss: 1.192e+01, Avg Batch Structure Loss: 4.476e+00\n",
      "Epoch 9/10\n",
      "Avg Batch Loss: 8.696e+00, Avg Batch Attribute Loss: 1.182e+01, Avg Batch Structure Loss: 4.007e+00\n",
      "Epoch 10/10\n",
      "Avg Batch Loss: 8.620e+00, Avg Batch Attribute Loss: 1.177e+01, Avg Batch Structure Loss: 3.898e+00\n",
      "Model saved to ./saved_models\\dominant_model_None.pt\n",
      "Metrics saved to ./saved_models\\train_metrics_None.json\n",
      "Model input dimension: 165\n",
      "Data feature dimension: 165\n",
      "Using aggregation: False\n"
     ]
    },
    {
     "name": "stderr",
     "output_type": "stream",
     "text": [
      "Testing: 100%|██████████| 9/9 [00:06<00:00,  1.48it/s]\n"
     ]
    },
    {
     "name": "stdout",
     "output_type": "stream",
     "text": [
      "\n",
      "Test Metrics:\n",
      "AUC: 0.740\n",
      "Accuracy: 0.935\n",
      "F1: 0.966\n",
      "Precision: 0.935\n",
      "Recall: 1.000\n",
      "Loss: 1.009e+01\n",
      "Metrics saved to ./saved_models\\test_metrics_None.json\n",
      "Using GCN as backbone, with 3 layers.\n",
      "Epoch 1/10\n",
      "Avg Batch Loss: 5.719e+02, Avg Batch Attribute Loss: 1.588e+01, Avg Batch Structure Loss: 1.406e+03\n",
      "Epoch 2/10\n",
      "Avg Batch Loss: 3.488e+01, Avg Batch Attribute Loss: 1.337e+01, Avg Batch Structure Loss: 6.715e+01\n",
      "Epoch 3/10\n",
      "Avg Batch Loss: 1.385e+01, Avg Batch Attribute Loss: 1.281e+01, Avg Batch Structure Loss: 1.542e+01\n",
      "Epoch 4/10\n",
      "Avg Batch Loss: 1.018e+01, Avg Batch Attribute Loss: 1.242e+01, Avg Batch Structure Loss: 6.816e+00\n",
      "Epoch 5/10\n",
      "Avg Batch Loss: 9.393e+00, Avg Batch Attribute Loss: 1.221e+01, Avg Batch Structure Loss: 5.165e+00\n",
      "Epoch 6/10\n",
      "Avg Batch Loss: 8.955e+00, Avg Batch Attribute Loss: 1.204e+01, Avg Batch Structure Loss: 4.328e+00\n",
      "Epoch 7/10\n",
      "Avg Batch Loss: 8.828e+00, Avg Batch Attribute Loss: 1.195e+01, Avg Batch Structure Loss: 4.144e+00\n",
      "Epoch 8/10\n",
      "Avg Batch Loss: 8.794e+00, Avg Batch Attribute Loss: 1.186e+01, Avg Batch Structure Loss: 4.193e+00\n",
      "Epoch 9/10\n",
      "Avg Batch Loss: 8.541e+00, Avg Batch Attribute Loss: 1.182e+01, Avg Batch Structure Loss: 3.629e+00\n",
      "Epoch 10/10\n",
      "Avg Batch Loss: 8.231e+00, Avg Batch Attribute Loss: 1.174e+01, Avg Batch Structure Loss: 2.974e+00\n",
      "Model saved to ./saved_models\\dominant_model_None.pt\n",
      "Metrics saved to ./saved_models\\train_metrics_None.json\n",
      "Model input dimension: 165\n",
      "Data feature dimension: 165\n",
      "Using aggregation: False\n"
     ]
    },
    {
     "name": "stderr",
     "output_type": "stream",
     "text": [
      "Testing: 100%|██████████| 9/9 [00:05<00:00,  1.50it/s]\n"
     ]
    },
    {
     "name": "stdout",
     "output_type": "stream",
     "text": [
      "\n",
      "Test Metrics:\n",
      "AUC: 0.769\n",
      "Accuracy: 0.935\n",
      "F1: 0.966\n",
      "Precision: 0.935\n",
      "Recall: 1.000\n",
      "Loss: 9.490e+00\n",
      "Metrics saved to ./saved_models\\test_metrics_None.json\n",
      "Using GCN as backbone, with 3 layers.\n",
      "Epoch 1/10\n",
      "Avg Batch Loss: 4.440e+02, Avg Batch Attribute Loss: 1.546e+01, Avg Batch Structure Loss: 1.087e+03\n",
      "Epoch 2/10\n",
      "Avg Batch Loss: 3.234e+01, Avg Batch Attribute Loss: 1.322e+01, Avg Batch Structure Loss: 6.102e+01\n",
      "Epoch 3/10\n",
      "Avg Batch Loss: 1.422e+01, Avg Batch Attribute Loss: 1.266e+01, Avg Batch Structure Loss: 1.655e+01\n",
      "Epoch 4/10\n",
      "Avg Batch Loss: 1.085e+01, Avg Batch Attribute Loss: 1.234e+01, Avg Batch Structure Loss: 8.614e+00\n",
      "Epoch 5/10\n",
      "Avg Batch Loss: 9.635e+00, Avg Batch Attribute Loss: 1.215e+01, Avg Batch Structure Loss: 5.864e+00\n",
      "Epoch 6/10\n",
      "Avg Batch Loss: 9.341e+00, Avg Batch Attribute Loss: 1.201e+01, Avg Batch Structure Loss: 5.343e+00\n",
      "Epoch 7/10\n",
      "Avg Batch Loss: 8.979e+00, Avg Batch Attribute Loss: 1.189e+01, Avg Batch Structure Loss: 4.607e+00\n",
      "Epoch 8/10\n",
      "Avg Batch Loss: 8.565e+00, Avg Batch Attribute Loss: 1.181e+01, Avg Batch Structure Loss: 3.701e+00\n",
      "Epoch 9/10\n",
      "Avg Batch Loss: 8.748e+00, Avg Batch Attribute Loss: 1.175e+01, Avg Batch Structure Loss: 4.242e+00\n",
      "Epoch 10/10\n",
      "Avg Batch Loss: 8.295e+00, Avg Batch Attribute Loss: 1.169e+01, Avg Batch Structure Loss: 3.200e+00\n",
      "Model saved to ./saved_models\\dominant_model_None.pt\n",
      "Metrics saved to ./saved_models\\train_metrics_None.json\n",
      "Model input dimension: 165\n",
      "Data feature dimension: 165\n",
      "Using aggregation: False\n"
     ]
    },
    {
     "name": "stderr",
     "output_type": "stream",
     "text": [
      "Testing: 100%|██████████| 9/9 [00:06<00:00,  1.45it/s]\n"
     ]
    },
    {
     "name": "stdout",
     "output_type": "stream",
     "text": [
      "\n",
      "Test Metrics:\n",
      "AUC: 0.750\n",
      "Accuracy: 0.935\n",
      "F1: 0.966\n",
      "Precision: 0.935\n",
      "Recall: 1.000\n",
      "Loss: 9.323e+00\n",
      "Metrics saved to ./saved_models\\test_metrics_None.json\n",
      "Using GCN as backbone, with 3 layers.\n",
      "Epoch 1/10\n",
      "Avg Batch Loss: 5.666e+02, Avg Batch Attribute Loss: 1.570e+01, Avg Batch Structure Loss: 1.393e+03\n",
      "Epoch 2/10\n",
      "Avg Batch Loss: 3.428e+01, Avg Batch Attribute Loss: 1.334e+01, Avg Batch Structure Loss: 6.569e+01\n",
      "Epoch 3/10\n",
      "Avg Batch Loss: 1.412e+01, Avg Batch Attribute Loss: 1.264e+01, Avg Batch Structure Loss: 1.635e+01\n",
      "Epoch 4/10\n",
      "Avg Batch Loss: 1.082e+01, Avg Batch Attribute Loss: 1.236e+01, Avg Batch Structure Loss: 8.519e+00\n",
      "Epoch 5/10\n",
      "Avg Batch Loss: 1.029e+01, Avg Batch Attribute Loss: 1.217e+01, Avg Batch Structure Loss: 7.484e+00\n",
      "Epoch 6/10\n",
      "Avg Batch Loss: 9.365e+00, Avg Batch Attribute Loss: 1.205e+01, Avg Batch Structure Loss: 5.344e+00\n",
      "Epoch 7/10\n",
      "Avg Batch Loss: 9.407e+00, Avg Batch Attribute Loss: 1.196e+01, Avg Batch Structure Loss: 5.577e+00\n",
      "Epoch 8/10\n",
      "Avg Batch Loss: 8.914e+00, Avg Batch Attribute Loss: 1.188e+01, Avg Batch Structure Loss: 4.469e+00\n",
      "Epoch 9/10\n",
      "Avg Batch Loss: 8.777e+00, Avg Batch Attribute Loss: 1.183e+01, Avg Batch Structure Loss: 4.201e+00\n",
      "Epoch 10/10\n",
      "Avg Batch Loss: 8.740e+00, Avg Batch Attribute Loss: 1.177e+01, Avg Batch Structure Loss: 4.194e+00\n",
      "Model saved to ./saved_models\\dominant_model_None.pt\n",
      "Metrics saved to ./saved_models\\train_metrics_None.json\n",
      "Model input dimension: 165\n",
      "Data feature dimension: 165\n",
      "Using aggregation: False\n"
     ]
    },
    {
     "name": "stderr",
     "output_type": "stream",
     "text": [
      "Testing: 100%|██████████| 9/9 [00:05<00:00,  1.51it/s]"
     ]
    },
    {
     "name": "stdout",
     "output_type": "stream",
     "text": [
      "\n",
      "Test Metrics:\n",
      "AUC: 0.753\n",
      "Accuracy: 0.935\n",
      "F1: 0.966\n",
      "Precision: 0.935\n",
      "Recall: 1.000\n",
      "Loss: 1.024e+01\n",
      "Metrics saved to ./saved_models\\test_metrics_None.json\n"
     ]
    },
    {
     "name": "stderr",
     "output_type": "stream",
     "text": [
      "\n"
     ]
    }
   ],
   "source": [
    "data = load_dataset(root=config[\"data_root\"])\n",
    "metrics = {\"auc\": [], \"accuracy\": [],\"f1\": [], \"precision\": [], \"recall\": []}\n",
    "\n",
    "para_change = \"hidden_dim\"\n",
    "para_list = [32, 64, 128, 256, 512]\n",
    "\n",
    "metrics = hyperparameter_loop(para_change, para_list, metrics)"
   ]
  },
  {
   "cell_type": "code",
   "execution_count": 9,
   "id": "2f14c44c-0221-42e0-bdb3-11bfe9471ac1",
   "metadata": {},
   "outputs": [
    {
     "data": {
      "image/png": "[encoded data removed]",
      "text/plain": [
       "<Figure size 1000x500 with 1 Axes>"
      ]
     },
     "metadata": {},
     "output_type": "display_data"
    }
   ],
   "source": [
    "plot_metrics(metrics, para_list, para_change, x_log=False)"
   ]
  },
  {
   "cell_type": "markdown",
   "id": "f89eafd9-f30b-41d0-9c23-523a19e88ca4",
   "metadata": {},
   "source": [
    "#### Dropout"
   ]
  },
  {
   "cell_type": "code",
   "execution_count": 11,
   "id": "30d0066c-9582-4dfc-8da0-cd261e4de2d6",
   "metadata": {},
   "outputs": [
    {
     "name": "stdout",
     "output_type": "stream",
     "text": [
      "Using GCN as backbone, with 3 layers.\n",
      "Epoch 1/10\n",
      "Avg Batch Loss: 5.701e+02, Avg Batch Attribute Loss: 1.572e+01, Avg Batch Structure Loss: 1.402e+03\n",
      "Epoch 2/10\n",
      "Avg Batch Loss: 3.807e+01, Avg Batch Attribute Loss: 1.348e+01, Avg Batch Structure Loss: 7.497e+01\n",
      "Epoch 3/10\n",
      "Avg Batch Loss: 1.434e+01, Avg Batch Attribute Loss: 1.281e+01, Avg Batch Structure Loss: 1.664e+01\n",
      "Epoch 4/10\n",
      "Avg Batch Loss: 1.145e+01, Avg Batch Attribute Loss: 1.247e+01, Avg Batch Structure Loss: 9.920e+00\n",
      "Epoch 5/10\n",
      "Avg Batch Loss: 1.026e+01, Avg Batch Attribute Loss: 1.225e+01, Avg Batch Structure Loss: 7.270e+00\n",
      "Epoch 6/10\n",
      "Avg Batch Loss: 9.560e+00, Avg Batch Attribute Loss: 1.213e+01, Avg Batch Structure Loss: 5.702e+00\n",
      "Epoch 7/10\n",
      "Avg Batch Loss: 9.676e+00, Avg Batch Attribute Loss: 1.203e+01, Avg Batch Structure Loss: 6.140e+00\n",
      "Epoch 8/10\n",
      "Avg Batch Loss: 9.363e+00, Avg Batch Attribute Loss: 1.195e+01, Avg Batch Structure Loss: 5.477e+00\n",
      "Epoch 9/10\n",
      "Avg Batch Loss: 9.142e+00, Avg Batch Attribute Loss: 1.188e+01, Avg Batch Structure Loss: 5.039e+00\n",
      "Epoch 10/10\n",
      "Avg Batch Loss: 8.553e+00, Avg Batch Attribute Loss: 1.182e+01, Avg Batch Structure Loss: 3.648e+00\n",
      "Model saved to ./saved_models\\dominant_model_None.pt\n",
      "Metrics saved to ./saved_models\\train_metrics_None.json\n",
      "Model input dimension: 165\n",
      "Data feature dimension: 165\n",
      "Using aggregation: False\n"
     ]
    },
    {
     "name": "stderr",
     "output_type": "stream",
     "text": [
      "Testing: 100%|██████████| 9/9 [00:06<00:00,  1.47it/s]\n"
     ]
    },
    {
     "name": "stdout",
     "output_type": "stream",
     "text": [
      "\n",
      "Test Metrics:\n",
      "AUC: 0.759\n",
      "Accuracy: 0.935\n",
      "F1: 0.966\n",
      "Precision: 0.935\n",
      "Recall: 1.000\n",
      "Loss: 1.102e+01\n",
      "Metrics saved to ./saved_models\\test_metrics_None.json\n",
      "Using GCN as backbone, with 3 layers.\n",
      "Epoch 1/10\n",
      "Avg Batch Loss: 5.921e+02, Avg Batch Attribute Loss: 1.596e+01, Avg Batch Structure Loss: 1.456e+03\n",
      "Epoch 2/10\n",
      "Avg Batch Loss: 3.268e+01, Avg Batch Attribute Loss: 1.333e+01, Avg Batch Structure Loss: 6.170e+01\n",
      "Epoch 3/10\n",
      "Avg Batch Loss: 1.349e+01, Avg Batch Attribute Loss: 1.279e+01, Avg Batch Structure Loss: 1.454e+01\n",
      "Epoch 4/10\n",
      "Avg Batch Loss: 1.027e+01, Avg Batch Attribute Loss: 1.241e+01, Avg Batch Structure Loss: 7.045e+00\n",
      "Epoch 5/10\n",
      "Avg Batch Loss: 1.017e+01, Avg Batch Attribute Loss: 1.221e+01, Avg Batch Structure Loss: 7.107e+00\n",
      "Epoch 6/10\n",
      "Avg Batch Loss: 9.795e+00, Avg Batch Attribute Loss: 1.210e+01, Avg Batch Structure Loss: 6.341e+00\n",
      "Epoch 7/10\n",
      "Avg Batch Loss: 9.041e+00, Avg Batch Attribute Loss: 1.200e+01, Avg Batch Structure Loss: 4.602e+00\n",
      "Epoch 8/10\n",
      "Avg Batch Loss: 9.022e+00, Avg Batch Attribute Loss: 1.193e+01, Avg Batch Structure Loss: 4.663e+00\n",
      "Epoch 9/10\n",
      "Avg Batch Loss: 9.162e+00, Avg Batch Attribute Loss: 1.183e+01, Avg Batch Structure Loss: 5.158e+00\n",
      "Epoch 10/10\n",
      "Avg Batch Loss: 8.804e+00, Avg Batch Attribute Loss: 1.180e+01, Avg Batch Structure Loss: 4.317e+00\n",
      "Model saved to ./saved_models\\dominant_model_None.pt\n",
      "Metrics saved to ./saved_models\\train_metrics_None.json\n",
      "Model input dimension: 165\n",
      "Data feature dimension: 165\n",
      "Using aggregation: False\n"
     ]
    },
    {
     "name": "stderr",
     "output_type": "stream",
     "text": [
      "Testing: 100%|██████████| 9/9 [00:06<00:00,  1.44it/s]\n"
     ]
    },
    {
     "name": "stdout",
     "output_type": "stream",
     "text": [
      "\n",
      "Test Metrics:\n",
      "AUC: 0.762\n",
      "Accuracy: 0.935\n",
      "F1: 0.966\n",
      "Precision: 0.935\n",
      "Recall: 1.000\n",
      "Loss: 9.843e+00\n",
      "Metrics saved to ./saved_models\\test_metrics_None.json\n",
      "Using GCN as backbone, with 3 layers.\n",
      "Epoch 1/10\n",
      "Avg Batch Loss: 6.965e+02, Avg Batch Attribute Loss: 1.605e+01, Avg Batch Structure Loss: 1.717e+03\n",
      "Epoch 2/10\n",
      "Avg Batch Loss: 3.894e+01, Avg Batch Attribute Loss: 1.358e+01, Avg Batch Structure Loss: 7.699e+01\n",
      "Epoch 3/10\n",
      "Avg Batch Loss: 1.446e+01, Avg Batch Attribute Loss: 1.280e+01, Avg Batch Structure Loss: 1.695e+01\n",
      "Epoch 4/10\n",
      "Avg Batch Loss: 1.142e+01, Avg Batch Attribute Loss: 1.243e+01, Avg Batch Structure Loss: 9.911e+00\n",
      "Epoch 5/10\n",
      "Avg Batch Loss: 1.005e+01, Avg Batch Attribute Loss: 1.220e+01, Avg Batch Structure Loss: 6.812e+00\n",
      "Epoch 6/10\n",
      "Avg Batch Loss: 9.745e+00, Avg Batch Attribute Loss: 1.205e+01, Avg Batch Structure Loss: 6.294e+00\n",
      "Epoch 7/10\n",
      "Avg Batch Loss: 9.300e+00, Avg Batch Attribute Loss: 1.194e+01, Avg Batch Structure Loss: 5.340e+00\n",
      "Epoch 8/10\n",
      "Avg Batch Loss: 9.173e+00, Avg Batch Attribute Loss: 1.187e+01, Avg Batch Structure Loss: 5.134e+00\n",
      "Epoch 9/10\n",
      "Avg Batch Loss: 8.869e+00, Avg Batch Attribute Loss: 1.181e+01, Avg Batch Structure Loss: 4.465e+00\n",
      "Epoch 10/10\n",
      "Avg Batch Loss: 8.926e+00, Avg Batch Attribute Loss: 1.175e+01, Avg Batch Structure Loss: 4.696e+00\n",
      "Model saved to ./saved_models\\dominant_model_None.pt\n",
      "Metrics saved to ./saved_models\\train_metrics_None.json\n",
      "Model input dimension: 165\n",
      "Data feature dimension: 165\n",
      "Using aggregation: False\n"
     ]
    },
    {
     "name": "stderr",
     "output_type": "stream",
     "text": [
      "Testing: 100%|██████████| 9/9 [00:06<00:00,  1.43it/s]\n"
     ]
    },
    {
     "name": "stdout",
     "output_type": "stream",
     "text": [
      "\n",
      "Test Metrics:\n",
      "AUC: 0.758\n",
      "Accuracy: 0.935\n",
      "F1: 0.966\n",
      "Precision: 0.935\n",
      "Recall: 1.000\n",
      "Loss: 1.093e+01\n",
      "Metrics saved to ./saved_models\\test_metrics_None.json\n",
      "Using GCN as backbone, with 3 layers.\n",
      "Epoch 1/10\n",
      "Avg Batch Loss: 6.199e+02, Avg Batch Attribute Loss: 1.573e+01, Avg Batch Structure Loss: 1.526e+03\n",
      "Epoch 2/10\n",
      "Avg Batch Loss: 3.996e+01, Avg Batch Attribute Loss: 1.337e+01, Avg Batch Structure Loss: 7.983e+01\n",
      "Epoch 3/10\n",
      "Avg Batch Loss: 1.484e+01, Avg Batch Attribute Loss: 1.270e+01, Avg Batch Structure Loss: 1.804e+01\n",
      "Epoch 4/10\n",
      "Avg Batch Loss: 1.123e+01, Avg Batch Attribute Loss: 1.237e+01, Avg Batch Structure Loss: 9.526e+00\n",
      "Epoch 5/10\n",
      "Avg Batch Loss: 1.055e+01, Avg Batch Attribute Loss: 1.221e+01, Avg Batch Structure Loss: 8.059e+00\n",
      "Epoch 6/10\n",
      "Avg Batch Loss: 9.883e+00, Avg Batch Attribute Loss: 1.208e+01, Avg Batch Structure Loss: 6.595e+00\n",
      "Epoch 7/10\n",
      "Avg Batch Loss: 9.472e+00, Avg Batch Attribute Loss: 1.198e+01, Avg Batch Structure Loss: 5.706e+00\n",
      "Epoch 8/10\n",
      "Avg Batch Loss: 8.907e+00, Avg Batch Attribute Loss: 1.190e+01, Avg Batch Structure Loss: 4.420e+00\n",
      "Epoch 9/10\n",
      "Avg Batch Loss: 8.585e+00, Avg Batch Attribute Loss: 1.183e+01, Avg Batch Structure Loss: 3.722e+00\n",
      "Epoch 10/10\n",
      "Avg Batch Loss: 8.911e+00, Avg Batch Attribute Loss: 1.178e+01, Avg Batch Structure Loss: 4.608e+00\n",
      "Model saved to ./saved_models\\dominant_model_None.pt\n",
      "Metrics saved to ./saved_models\\train_metrics_None.json\n",
      "Model input dimension: 165\n",
      "Data feature dimension: 165\n",
      "Using aggregation: False\n"
     ]
    },
    {
     "name": "stderr",
     "output_type": "stream",
     "text": [
      "Testing: 100%|██████████| 9/9 [00:06<00:00,  1.47it/s]"
     ]
    },
    {
     "name": "stdout",
     "output_type": "stream",
     "text": [
      "\n",
      "Test Metrics:\n",
      "AUC: 0.747\n",
      "Accuracy: 0.935\n",
      "F1: 0.966\n",
      "Precision: 0.935\n",
      "Recall: 1.000\n",
      "Loss: 1.099e+01\n",
      "Metrics saved to ./saved_models\\test_metrics_None.json\n"
     ]
    },
    {
     "name": "stderr",
     "output_type": "stream",
     "text": [
      "\n"
     ]
    }
   ],
   "source": [
    "data = load_dataset(root=config[\"data_root\"])\n",
    "metrics = {\"auc\": [], \"accuracy\": [],\"f1\": [], \"precision\": [], \"recall\": []}\n",
    "\n",
    "para_change = \"dropout\"\n",
    "para_list = [0.0, 0.1, 0.2, 0.3]\n",
    "\n",
    "metrics = hyperparameter_loop(para_change, para_list, metrics)"
   ]
  },
  {
   "cell_type": "code",
   "execution_count": 12,
   "id": "9048695a-6eb2-4f50-ba73-6f0b81dd9efe",
   "metadata": {},
   "outputs": [
    {
     "data": {
      "image/png": "[encoded data removed]",
      "text/plain": [
       "<Figure size 1000x500 with 1 Axes>"
      ]
     },
     "metadata": {},
     "output_type": "display_data"
    }
   ],
   "source": [
    "plot_metrics(metrics, para_list, para_change, x_log=False)"
   ]
  },
  {
   "cell_type": "markdown",
   "id": "d04b631b-1745-4658-b512-bcd903b04a49",
   "metadata": {},
   "source": [
    "#### Number of neighbors"
   ]
  },
  {
   "cell_type": "code",
   "execution_count": 14,
   "id": "4c0025e6-1628-4d65-94fd-13425cd65de3",
   "metadata": {},
   "outputs": [
    {
     "name": "stdout",
     "output_type": "stream",
     "text": [
      "Using GCN as backbone, with 3 layers.\n",
      "Epoch 1/10\n",
      "Avg Batch Loss: 6.637e+02, Avg Batch Attribute Loss: 1.581e+01, Avg Batch Structure Loss: 1.636e+03\n",
      "Epoch 2/10\n",
      "Avg Batch Loss: 3.754e+01, Avg Batch Attribute Loss: 1.346e+01, Avg Batch Structure Loss: 7.367e+01\n",
      "Epoch 3/10\n",
      "Avg Batch Loss: 1.386e+01, Avg Batch Attribute Loss: 1.278e+01, Avg Batch Structure Loss: 1.549e+01\n",
      "Epoch 4/10\n",
      "Avg Batch Loss: 1.115e+01, Avg Batch Attribute Loss: 1.244e+01, Avg Batch Structure Loss: 9.223e+00\n",
      "Epoch 5/10\n",
      "Avg Batch Loss: 1.045e+01, Avg Batch Attribute Loss: 1.224e+01, Avg Batch Structure Loss: 7.774e+00\n",
      "Epoch 6/10\n",
      "Avg Batch Loss: 9.716e+00, Avg Batch Attribute Loss: 1.209e+01, Avg Batch Structure Loss: 6.150e+00\n",
      "Epoch 7/10\n",
      "Avg Batch Loss: 9.353e+00, Avg Batch Attribute Loss: 1.200e+01, Avg Batch Structure Loss: 5.386e+00\n",
      "Epoch 8/10\n",
      "Avg Batch Loss: 9.170e+00, Avg Batch Attribute Loss: 1.192e+01, Avg Batch Structure Loss: 5.049e+00\n",
      "Epoch 9/10\n",
      "Avg Batch Loss: 8.712e+00, Avg Batch Attribute Loss: 1.186e+01, Avg Batch Structure Loss: 3.986e+00\n",
      "Epoch 10/10\n",
      "Avg Batch Loss: 8.552e+00, Avg Batch Attribute Loss: 1.181e+01, Avg Batch Structure Loss: 3.665e+00\n",
      "Model saved to ./saved_models\\dominant_model_None.pt\n",
      "Metrics saved to ./saved_models\\train_metrics_None.json\n",
      "Model input dimension: 165\n",
      "Data feature dimension: 165\n",
      "Using aggregation: False\n"
     ]
    },
    {
     "name": "stderr",
     "output_type": "stream",
     "text": [
      "Testing: 100%|██████████| 9/9 [00:05<00:00,  1.50it/s]\n"
     ]
    },
    {
     "name": "stdout",
     "output_type": "stream",
     "text": [
      "\n",
      "Test Metrics:\n",
      "AUC: 0.759\n",
      "Accuracy: 0.935\n",
      "F1: 0.966\n",
      "Precision: 0.935\n",
      "Recall: 1.000\n",
      "Loss: 1.050e+01\n",
      "Metrics saved to ./saved_models\\test_metrics_None.json\n",
      "Using GCN as backbone, with 3 layers.\n",
      "Epoch 1/10\n",
      "Avg Batch Loss: 5.139e+02, Avg Batch Attribute Loss: 1.566e+01, Avg Batch Structure Loss: 1.261e+03\n",
      "Epoch 2/10\n",
      "Avg Batch Loss: 3.302e+01, Avg Batch Attribute Loss: 1.335e+01, Avg Batch Structure Loss: 6.252e+01\n",
      "Epoch 3/10\n",
      "Avg Batch Loss: 1.393e+01, Avg Batch Attribute Loss: 1.275e+01, Avg Batch Structure Loss: 1.571e+01\n",
      "Epoch 4/10\n",
      "Avg Batch Loss: 1.110e+01, Avg Batch Attribute Loss: 1.244e+01, Avg Batch Structure Loss: 9.082e+00\n",
      "Epoch 5/10\n",
      "Avg Batch Loss: 1.032e+01, Avg Batch Attribute Loss: 1.224e+01, Avg Batch Structure Loss: 7.434e+00\n",
      "Epoch 6/10\n",
      "Avg Batch Loss: 9.700e+00, Avg Batch Attribute Loss: 1.212e+01, Avg Batch Structure Loss: 6.071e+00\n",
      "Epoch 7/10\n",
      "Avg Batch Loss: 9.238e+00, Avg Batch Attribute Loss: 1.202e+01, Avg Batch Structure Loss: 5.070e+00\n",
      "Epoch 8/10\n",
      "Avg Batch Loss: 8.827e+00, Avg Batch Attribute Loss: 1.192e+01, Avg Batch Structure Loss: 4.189e+00\n",
      "Epoch 9/10\n",
      "Avg Batch Loss: 8.624e+00, Avg Batch Attribute Loss: 1.186e+01, Avg Batch Structure Loss: 3.767e+00\n",
      "Epoch 10/10\n",
      "Avg Batch Loss: 8.406e+00, Avg Batch Attribute Loss: 1.180e+01, Avg Batch Structure Loss: 3.314e+00\n",
      "Model saved to ./saved_models\\dominant_model_None.pt\n",
      "Metrics saved to ./saved_models\\train_metrics_None.json\n",
      "Model input dimension: 165\n",
      "Data feature dimension: 165\n",
      "Using aggregation: False\n"
     ]
    },
    {
     "name": "stderr",
     "output_type": "stream",
     "text": [
      "Testing: 100%|██████████| 9/9 [00:05<00:00,  1.51it/s]\n"
     ]
    },
    {
     "name": "stdout",
     "output_type": "stream",
     "text": [
      "\n",
      "Test Metrics:\n",
      "AUC: 0.758\n",
      "Accuracy: 0.935\n",
      "F1: 0.966\n",
      "Precision: 0.935\n",
      "Recall: 1.000\n",
      "Loss: 1.024e+01\n",
      "Metrics saved to ./saved_models\\test_metrics_None.json\n",
      "Using GCN as backbone, with 3 layers.\n",
      "Epoch 1/10\n",
      "Avg Batch Loss: 5.722e+02, Avg Batch Attribute Loss: 1.590e+01, Avg Batch Structure Loss: 1.407e+03\n",
      "Epoch 2/10\n",
      "Avg Batch Loss: 3.990e+01, Avg Batch Attribute Loss: 1.341e+01, Avg Batch Structure Loss: 7.964e+01\n",
      "Epoch 3/10\n",
      "Avg Batch Loss: 1.432e+01, Avg Batch Attribute Loss: 1.275e+01, Avg Batch Structure Loss: 1.668e+01\n",
      "Epoch 4/10\n",
      "Avg Batch Loss: 1.110e+01, Avg Batch Attribute Loss: 1.240e+01, Avg Batch Structure Loss: 9.150e+00\n",
      "Epoch 5/10\n",
      "Avg Batch Loss: 1.015e+01, Avg Batch Attribute Loss: 1.219e+01, Avg Batch Structure Loss: 7.088e+00\n",
      "Epoch 6/10\n",
      "Avg Batch Loss: 9.679e+00, Avg Batch Attribute Loss: 1.206e+01, Avg Batch Structure Loss: 6.108e+00\n",
      "Epoch 7/10\n",
      "Avg Batch Loss: 9.476e+00, Avg Batch Attribute Loss: 1.198e+01, Avg Batch Structure Loss: 5.721e+00\n",
      "Epoch 8/10\n",
      "Avg Batch Loss: 8.837e+00, Avg Batch Attribute Loss: 1.188e+01, Avg Batch Structure Loss: 4.271e+00\n",
      "Epoch 9/10\n",
      "Avg Batch Loss: 8.711e+00, Avg Batch Attribute Loss: 1.182e+01, Avg Batch Structure Loss: 4.049e+00\n",
      "Epoch 10/10\n",
      "Avg Batch Loss: 8.469e+00, Avg Batch Attribute Loss: 1.178e+01, Avg Batch Structure Loss: 3.506e+00\n",
      "Model saved to ./saved_models\\dominant_model_None.pt\n",
      "Metrics saved to ./saved_models\\train_metrics_None.json\n",
      "Model input dimension: 165\n",
      "Data feature dimension: 165\n",
      "Using aggregation: False\n"
     ]
    },
    {
     "name": "stderr",
     "output_type": "stream",
     "text": [
      "Testing: 100%|██████████| 9/9 [00:06<00:00,  1.44it/s]\n"
     ]
    },
    {
     "name": "stdout",
     "output_type": "stream",
     "text": [
      "\n",
      "Test Metrics:\n",
      "AUC: 0.769\n",
      "Accuracy: 0.935\n",
      "F1: 0.966\n",
      "Precision: 0.935\n",
      "Recall: 1.000\n",
      "Loss: 1.076e+01\n",
      "Metrics saved to ./saved_models\\test_metrics_None.json\n",
      "Using GCN as backbone, with 3 layers.\n",
      "Epoch 1/10\n",
      "Avg Batch Loss: 6.619e+02, Avg Batch Attribute Loss: 1.570e+01, Avg Batch Structure Loss: 1.631e+03\n",
      "Epoch 2/10\n",
      "Avg Batch Loss: 4.037e+01, Avg Batch Attribute Loss: 1.331e+01, Avg Batch Structure Loss: 8.095e+01\n",
      "Epoch 3/10\n",
      "Avg Batch Loss: 1.438e+01, Avg Batch Attribute Loss: 1.273e+01, Avg Batch Structure Loss: 1.686e+01\n",
      "Epoch 4/10\n",
      "Avg Batch Loss: 1.129e+01, Avg Batch Attribute Loss: 1.237e+01, Avg Batch Structure Loss: 9.689e+00\n",
      "Epoch 5/10\n",
      "Avg Batch Loss: 1.065e+01, Avg Batch Attribute Loss: 1.219e+01, Avg Batch Structure Loss: 8.349e+00\n",
      "Epoch 6/10\n",
      "Avg Batch Loss: 1.022e+01, Avg Batch Attribute Loss: 1.207e+01, Avg Batch Structure Loss: 7.441e+00\n",
      "Epoch 7/10\n",
      "Avg Batch Loss: 9.446e+00, Avg Batch Attribute Loss: 1.195e+01, Avg Batch Structure Loss: 5.684e+00\n",
      "Epoch 8/10\n",
      "Avg Batch Loss: 9.141e+00, Avg Batch Attribute Loss: 1.187e+01, Avg Batch Structure Loss: 5.047e+00\n",
      "Epoch 9/10\n",
      "Avg Batch Loss: 8.625e+00, Avg Batch Attribute Loss: 1.181e+01, Avg Batch Structure Loss: 3.843e+00\n",
      "Epoch 10/10\n",
      "Avg Batch Loss: 8.534e+00, Avg Batch Attribute Loss: 1.175e+01, Avg Batch Structure Loss: 3.704e+00\n",
      "Model saved to ./saved_models\\dominant_model_None.pt\n",
      "Metrics saved to ./saved_models\\train_metrics_None.json\n",
      "Model input dimension: 165\n",
      "Data feature dimension: 165\n",
      "Using aggregation: False\n"
     ]
    },
    {
     "name": "stderr",
     "output_type": "stream",
     "text": [
      "Testing: 100%|██████████| 9/9 [00:05<00:00,  1.50it/s]"
     ]
    },
    {
     "name": "stdout",
     "output_type": "stream",
     "text": [
      "\n",
      "Test Metrics:\n",
      "AUC: 0.764\n",
      "Accuracy: 0.935\n",
      "F1: 0.966\n",
      "Precision: 0.935\n",
      "Recall: 1.000\n",
      "Loss: 9.763e+00\n",
      "Metrics saved to ./saved_models\\test_metrics_None.json\n"
     ]
    },
    {
     "name": "stderr",
     "output_type": "stream",
     "text": [
      "\n"
     ]
    }
   ],
   "source": [
    "data = load_dataset(root=config[\"data_root\"])\n",
    "metrics = {\"auc\": [], \"accuracy\": [],\"f1\": [], \"precision\": [], \"recall\": []}\n",
    "\n",
    "para_change = \"num_neighbors\"\n",
    "para_list = [[5,5], [10,10], [15,15], [20,20]]\n",
    "\n",
    "n_metrics = hyperparameter_loop(para_change, para_list, metrics)"
   ]
  },
  {
   "cell_type": "code",
   "execution_count": 15,
   "id": "29109d5f-7e2e-4efd-841f-d2b91150f16d",
   "metadata": {},
   "outputs": [
    {
     "data": {
      "image/png": "[encoded data removed]",
      "text/plain": [
       "<Figure size 1000x500 with 1 Axes>"
      ]
     },
     "metadata": {},
     "output_type": "display_data"
    }
   ],
   "source": [
    "para_list = [5,10,15,20]\n",
    "plot_metrics(n_metrics, para_list, para_change, x_log=False)"
   ]
  },
  {
   "cell_type": "code",
   "execution_count": null,
   "id": "762772be-fd64-4266-badc-86b52fd5c466",
   "metadata": {},
   "outputs": [],
   "source": []
  },
  {
   "cell_type": "code",
   "execution_count": null,
   "id": "e86c3542-d8a3-4814-b6ce-ab63e064a10d",
   "metadata": {},
   "outputs": [],
   "source": []
  }
 ],
 "metadata": {
  "kernelspec": {
   "display_name": "Python [conda env:dl-graph-cpu]",
   "language": "python",
   "name": "conda-env-dl-graph-cpu-py"
  },
  "language_info": {
   "codemirror_mode": {
    "name": "ipython",
    "version": 3
   },
   "file_extension": ".py",
   "mimetype": "text/x-python",
   "name": "python",
   "nbconvert_exporter": "python",
   "pygments_lexer": "ipython3",
   "version": "3.10.17"
  }
 },
 "nbformat": 4,
 "nbformat_minor": 5
}
