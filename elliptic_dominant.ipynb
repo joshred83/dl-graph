{
 "cells": [
  {
   "cell_type": "code",
   "execution_count": null,
   "metadata": {},
   "outputs": [
    {
     "name": "stderr",
     "output_type": "stream",
     "text": [
      "Processing...\n",
      "Done!\n"
     ]
    },
    {
     "data": {
      "application/vnd.jupyter.widget-view+json": {
       "model_id": "207dbdde2a544f50bdf9e5cb9577453e",
       "version_major": 2,
       "version_minor": 0
      },
      "text/plain": [
       "Epochs:   0%|          | 0/20 [00:00<?, ?it/s]"
      ]
     },
     "metadata": {},
     "output_type": "display_data"
    },
    {
     "data": {
      "application/vnd.jupyter.widget-view+json": {
       "model_id": "30c0232095544253afa7a62b3fe32b58",
       "version_major": 2,
       "version_minor": 0
      },
      "text/plain": [
       "Epoch 1: 0it [00:00, ?it/s]"
      ]
     },
     "metadata": {},
     "output_type": "display_data"
    },
    {
     "data": {
      "application/vnd.jupyter.widget-view+json": {
       "model_id": "d68a4563f99040e88041046c8aa18d3e",
       "version_major": 2,
       "version_minor": 0
      },
      "text/plain": [
       "Epoch 2: 0it [00:00, ?it/s]"
      ]
     },
     "metadata": {},
     "output_type": "display_data"
    },
    {
     "data": {
      "application/vnd.jupyter.widget-view+json": {
       "model_id": "d79a780e9dd1458db82252853c3fe325",
       "version_major": 2,
       "version_minor": 0
      },
      "text/plain": [
       "Epoch 3: 0it [00:00, ?it/s]"
      ]
     },
     "metadata": {},
     "output_type": "display_data"
    },
    {
     "data": {
      "application/vnd.jupyter.widget-view+json": {
       "model_id": "c0c8033fa324412099a3b631eb2f2db3",
       "version_major": 2,
       "version_minor": 0
      },
      "text/plain": [
       "Epoch 4: 0it [00:00, ?it/s]"
      ]
     },
     "metadata": {},
     "output_type": "display_data"
    },
    {
     "data": {
      "application/vnd.jupyter.widget-view+json": {
       "model_id": "ca9a93553e154ba7b582032ed05a0238",
       "version_major": 2,
       "version_minor": 0
      },
      "text/plain": [
       "Epoch 5: 0it [00:00, ?it/s]"
      ]
     },
     "metadata": {},
     "output_type": "display_data"
    },
    {
     "data": {
      "application/vnd.jupyter.widget-view+json": {
       "model_id": "c95e21a1232e491e84e0e194d37276e3",
       "version_major": 2,
       "version_minor": 0
      },
      "text/plain": [
       "Epoch 6: 0it [00:00, ?it/s]"
      ]
     },
     "metadata": {},
     "output_type": "display_data"
    },
    {
     "data": {
      "application/vnd.jupyter.widget-view+json": {
       "model_id": "a8f0c220aa9843409859a3125a7e45f5",
       "version_major": 2,
       "version_minor": 0
      },
      "text/plain": [
       "Epoch 7: 0it [00:00, ?it/s]"
      ]
     },
     "metadata": {},
     "output_type": "display_data"
    },
    {
     "data": {
      "application/vnd.jupyter.widget-view+json": {
       "model_id": "b5e4503b6dca439f989f33f8fbbe4bf9",
       "version_major": 2,
       "version_minor": 0
      },
      "text/plain": [
       "Epoch 8: 0it [00:00, ?it/s]"
      ]
     },
     "metadata": {},
     "output_type": "display_data"
    },
    {
     "data": {
      "application/vnd.jupyter.widget-view+json": {
       "model_id": "ae30eebe681148518cef65e1a68b8cd7",
       "version_major": 2,
       "version_minor": 0
      },
      "text/plain": [
       "Epoch 9: 0it [00:00, ?it/s]"
      ]
     },
     "metadata": {},
     "output_type": "display_data"
    },
    {
     "data": {
      "application/vnd.jupyter.widget-view+json": {
       "model_id": "63079d906cef4933ae179107e98bdc94",
       "version_major": 2,
       "version_minor": 0
      },
      "text/plain": [
       "Epoch 10: 0it [00:00, ?it/s]"
      ]
     },
     "metadata": {},
     "output_type": "display_data"
    },
    {
     "data": {
      "application/vnd.jupyter.widget-view+json": {
       "model_id": "a657a75258244254b8ff562ae5503e79",
       "version_major": 2,
       "version_minor": 0
      },
      "text/plain": [
       "Epoch 11: 0it [00:00, ?it/s]"
      ]
     },
     "metadata": {},
     "output_type": "display_data"
    },
    {
     "data": {
      "application/vnd.jupyter.widget-view+json": {
       "model_id": "a6152460cd934975afade01b0ab5414d",
       "version_major": 2,
       "version_minor": 0
      },
      "text/plain": [
       "Epoch 12: 0it [00:00, ?it/s]"
      ]
     },
     "metadata": {},
     "output_type": "display_data"
    },
    {
     "data": {
      "application/vnd.jupyter.widget-view+json": {
       "model_id": "bd23b2ad1ea54f0e9ec5173faf783810",
       "version_major": 2,
       "version_minor": 0
      },
      "text/plain": [
       "Epoch 13: 0it [00:00, ?it/s]"
      ]
     },
     "metadata": {},
     "output_type": "display_data"
    },
    {
     "data": {
      "application/vnd.jupyter.widget-view+json": {
       "model_id": "17ef755a69b4469d8e1eb99270069de0",
       "version_major": 2,
       "version_minor": 0
      },
      "text/plain": [
       "Epoch 14: 0it [00:00, ?it/s]"
      ]
     },
     "metadata": {},
     "output_type": "display_data"
    },
    {
     "data": {
      "application/vnd.jupyter.widget-view+json": {
       "model_id": "b7ff1035903e44dea36a3e298251bbd5",
       "version_major": 2,
       "version_minor": 0
      },
      "text/plain": [
       "Epoch 15: 0it [00:00, ?it/s]"
      ]
     },
     "metadata": {},
     "output_type": "display_data"
    },
    {
     "data": {
      "application/vnd.jupyter.widget-view+json": {
       "model_id": "9efa384fb94a409aaf356e03dc4b45b9",
       "version_major": 2,
       "version_minor": 0
      },
      "text/plain": [
       "Epoch 16: 0it [00:00, ?it/s]"
      ]
     },
     "metadata": {},
     "output_type": "display_data"
    },
    {
     "data": {
      "application/vnd.jupyter.widget-view+json": {
       "model_id": "666913dfdc374586b06be3921b748e94",
       "version_major": 2,
       "version_minor": 0
      },
      "text/plain": [
       "Epoch 17: 0it [00:00, ?it/s]"
      ]
     },
     "metadata": {},
     "output_type": "display_data"
    },
    {
     "data": {
      "application/vnd.jupyter.widget-view+json": {
       "model_id": "e7037632c0d94872bb66824ed93f1ebc",
       "version_major": 2,
       "version_minor": 0
      },
      "text/plain": [
       "Epoch 18: 0it [00:00, ?it/s]"
      ]
     },
     "metadata": {},
     "output_type": "display_data"
    },
    {
     "data": {
      "application/vnd.jupyter.widget-view+json": {
       "model_id": "f538a80a5e9240718b43c5ff01946ccc",
       "version_major": 2,
       "version_minor": 0
      },
      "text/plain": [
       "Epoch 19: 0it [00:00, ?it/s]"
      ]
     },
     "metadata": {},
     "output_type": "display_data"
    },
    {
     "data": {
      "application/vnd.jupyter.widget-view+json": {
       "model_id": "79a7053dddf4491ca714da9717eefc8c",
       "version_major": 2,
       "version_minor": 0
      },
      "text/plain": [
       "Epoch 20: 0it [00:00, ?it/s]"
      ]
     },
     "metadata": {},
     "output_type": "display_data"
    },
    {
     "data": {
      "image/png": "[encoded data removed]",
      "text/plain": [
       "<Figure size 800x500 with 1 Axes>"
      ]
     },
     "metadata": {},
     "output_type": "display_data"
    }
   ],
   "source": [
    "import torch\n",
    "import torch.nn.functional as F\n",
    "import matplotlib.pyplot as plt\n",
    "from torch_geometric.datasets import EllipticBitcoinDataset\n",
    "from torch_geometric.loader import NeighborLoader\n",
    "from torch_geometric.utils import to_dense_adj\n",
    "from pygod.nn import DOMINANTBase  # need DOMINANTBase because DOMINANT doesn't like mini-batching\n",
    "from tqdm.notebook import tqdm  #  \n",
    "\n",
    "# Load data\n",
    "dataset = EllipticBitcoinDataset(root='data/elliptic', force_reload=True)\n",
    "\n",
    "data = dataset[0] # Need to index in because  team-pyg couldnt figure out a less dumb way to load the dataset\n",
    "\n",
    "# Setup\n",
    "device = torch.device(\"cuda\" if torch.cuda.is_available() else \"cpu\")\n",
    "loader = NeighborLoader(data, batch_size=2048, shuffle=True, num_neighbors=[10, 10], input_nodes=data.train_mask) # I think this ithe right way. Should investigate the math. \n",
    "model = DOMINANTBase(in_dim=data.num_node_features).to(device) # I didn't do any tuning. \n",
    "optimizer = torch.optim.Adam(model.parameters(), lr=0.001)  # I didn't do any tuning. \n",
    "num_epochs = 20\n",
    "loss_history = []\n",
    "\n",
    "# Training loop\n",
    "for epoch in tqdm(range(num_epochs), desc=\"Epochs\"):\n",
    "    model.train()\n",
    "    total_loss = 0\n",
    "\n",
    "    for i, batch in tqdm(enumerate(loader), desc=f\"Epoch {epoch+1}\", leave=True):\n",
    "        batch = batch.to(device)\n",
    "        x = batch.x\n",
    "        edge_index = batch.edge_index\n",
    "        batch_size = getattr(batch, 'batch_size', x.size(0))\n",
    "\n",
    "        optimizer.zero_grad()\n",
    "        x_hat, s_hat = model(x, edge_index)\n",
    "        s = to_dense_adj(edge_index)[0].to(device)\n",
    "\n",
    "        loss_matrix = model.loss_func(x[:batch_size], x_hat[:batch_size], \n",
    "                                      s[:batch_size, :], s_hat[:batch_size]) # Need to learn the math. \n",
    "        \n",
    "        loss = torch.mean(loss_matrix) # batchwise mean for calculating the gradient\n",
    "\n",
    "        loss.backward()\n",
    "        optimizer.step()\n",
    "\n",
    "        total_loss += loss.item()  # but it gets summed for record keeping\n",
    "        \n",
    "\n",
    "    avg_loss = total_loss / i # and then divided so that it's reflective of the full graph\n",
    "    loss_history.append(avg_loss)\n",
    "\n",
    "plt.figure(figsize=(8, 5))\n",
    "plt.plot(range(1, len(loss_history)+1), loss_history, label='Avg Loss')\n",
    "plt.xlabel('Epoch')\n",
    "plt.ylabel('Loss')\n",
    "plt.title('Training Loss')\n",
    "plt.grid(True)\n",
    "plt.legend()\n",
    "plt.tight_layout()\n",
    "plt.show()"
   ]
  }
 ],
 "metadata": {
  "kernelspec": {
   "display_name": "dl-graph2",
   "language": "python",
   "name": "python3"
  },
  "language_info": {
   "codemirror_mode": {
    "name": "ipython",
    "version": 3
   },
   "file_extension": ".py",
   "mimetype": "text/x-python",
   "name": "python",
   "nbconvert_exporter": "python",
   "pygments_lexer": "ipython3",
   "version": "3.10.16"
  }
 },
 "nbformat": 4,
 "nbformat_minor": 2
}
