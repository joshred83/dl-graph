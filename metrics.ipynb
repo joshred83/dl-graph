{
 "cells": [
  {
   "cell_type": "code",
   "execution_count": null,
   "id": "a362f670",
   "metadata": {},
   "outputs": [],
   "source": [
    "import json\n",
    "import pandas as pd\n",
    "import os"
   ]
  },
  {
   "cell_type": "code",
   "execution_count": null,
   "id": "d872a626",
   "metadata": {},
   "outputs": [],
   "source": [
    "filename_begin = '_metrics_2025'\n",
    "\n",
    "def create_df_row(filename):\n",
    "    with open(filename, 'r') as f:\n",
    "        data = json.load(f)\n",
    "    \n",
    "    if 'auc' not in data.keys():\n",
    "        metrics_dict = {'auc': data['roc_auc'],\n",
    "                    'class_1_precision': data['classification_report']['1']['precision'],\n",
    "                    'class_1_recall': data['classification_report']['1']['recall'],\n",
    "                    'class_1_f1': data['classification_report']['1']['f1-score'],}\n",
    "    else:\n",
    "        metrics_dict = {'auc': data['auc'],\n",
    "                        'class_1_precision': data['classification_report']['1']['precision'],\n",
    "                        'class_1_recall': data['classification_report']['1']['recall'],\n",
    "                        'class_1_f1': data['classification_report']['1']['f1-score'],}\n",
    "    df = pd.DataFrame.from_dict(metrics_dict,orient='index', columns=[filename])\n",
    "    df = df.transpose()\n",
    "    return df"
   ]
  },
  {
   "cell_type": "code",
   "execution_count": null,
   "id": "4831bb1d",
   "metadata": {},
   "outputs": [],
   "source": [
    "create_df_row('/Users/ericloui/Documents/OMSA/DL_CS7643/project/dl-graph/grid_search_results/gcn_h128_d0.3_l3/randomforest_metrics_2025-04-25_21_37_58.json')"
   ]
  },
  {
   "cell_type": "code",
   "execution_count": null,
   "id": "650a537a",
   "metadata": {},
   "outputs": [],
   "source": [
    "\n",
    "def process_files_in_directory(directory, prefix):\n",
    "    dfs = []\n",
    "    # Loop through all files in the directory\n",
    "    for root, dirs, files in os.walk(directory):\n",
    "            for filename in files:\n",
    "                \n",
    "                # Check if the file name begins with the specified prefix   \n",
    "                if (prefix in filename) and (filename.endswith('.json')) and not ('train' in filename):\n",
    "                    \n",
    "\n",
    "                    df = create_df_row(os.path.join(root, filename))\n",
    "                    dfs.append(df)\n",
    "                else:\n",
    "                    pass\n",
    "    return dfs\n"
   ]
  },
  {
   "cell_type": "code",
   "execution_count": null,
   "id": "c52f8e99",
   "metadata": {},
   "outputs": [],
   "source": [
    "d = process_files_in_directory('/Users/ericloui/Documents/OMSA/DL_CS7643/project/dl-graph/grid_search_results', prefix='_metrics_2025-')"
   ]
  },
  {
   "cell_type": "code",
   "execution_count": null,
   "id": "c1f0342d",
   "metadata": {},
   "outputs": [],
   "source": [
    "d"
   ]
  },
  {
   "cell_type": "code",
   "execution_count": null,
   "id": "a9a802c9",
   "metadata": {},
   "outputs": [],
   "source": [
    "pd.concat(d,axis=0).to_csv('/Users/ericloui/Documents/OMSA/DL_CS7643/project/dl-graph/grid_search_results.csv')"
   ]
  },
  {
   "cell_type": "code",
   "execution_count": null,
   "id": "5a0dd819",
   "metadata": {},
   "outputs": [],
   "source": [
    "pd.concat(d,axis=0).sort_values(by='class_1_f1', ascending=False)"
   ]
  },
  {
   "cell_type": "code",
   "execution_count": null,
   "id": "4469a3c3",
   "metadata": {},
   "outputs": [],
   "source": [
    "mydf = pd.concat(d,axis=0).sort_values(by='auc', ascending=False)"
   ]
  },
  {
   "cell_type": "code",
   "execution_count": null,
   "id": "b4869f4b",
   "metadata": {},
   "outputs": [],
   "source": [
    "mydf.loc[mydf.index.str.contains('graphsage', na=False)].head(n=3)"
   ]
  },
  {
   "cell_type": "code",
   "execution_count": null,
   "id": "053ca90b",
   "metadata": {},
   "outputs": [],
   "source": [
    "mydf.loc[mydf.index.str.contains('gcn', na=False)].head(n=3)"
   ]
  },
  {
   "cell_type": "code",
   "execution_count": null,
   "id": "ab7c7e1a",
   "metadata": {},
   "outputs": [],
   "source": [
    "mydf.loc[mydf.index.str.contains('skip', na=False)].head(n=3)"
   ]
  },
  {
   "cell_type": "code",
   "execution_count": null,
   "id": "f1758373",
   "metadata": {},
   "outputs": [],
   "source": [
    "mydf.loc[mydf.index.str.contains('gat', na=False)].head(n=3)"
   ]
  },
  {
   "cell_type": "code",
   "execution_count": null,
   "id": "7140d5fe",
   "metadata": {},
   "outputs": [],
   "source": [
    "mydf.loc[mydf.index.str.contains('hybrid', na=False)].head(n=3)"
   ]
  }
 ],
 "metadata": {
  "kernelspec": {
   "display_name": "dl-graph-cpu",
   "language": "python",
   "name": "python3"
  },
  "language_info": {
   "codemirror_mode": {
    "name": "ipython",
    "version": 3
   },
   "file_extension": ".py",
   "mimetype": "text/x-python",
   "name": "python",
   "nbconvert_exporter": "python",
   "pygments_lexer": "ipython3",
   "version": "3.10.17"
  }
 },
 "nbformat": 4,
 "nbformat_minor": 5
}
